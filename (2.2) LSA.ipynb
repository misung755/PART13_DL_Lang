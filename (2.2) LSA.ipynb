{
 "cells": [
  {
   "cell_type": "markdown",
   "metadata": {},
   "source": [
    "# LSA"
   ]
  },
  {
   "cell_type": "markdown",
   "metadata": {},
   "source": [
    "잠재 의미 분석(Latent Semantic Analysis, LSA)을 통해 단어 벡터화 기법을 실습하고 단어 간 유사도를 구해볼 것입니다. 여기서의 코드 예제 및 설명은 《밑바닥부터 시작하는 딥러닝 2》를 참고했습니다."
   ]
  },
  {
   "cell_type": "markdown",
   "metadata": {},
   "source": [
    "## PTB 데이터 불러오기\n",
    "\n",
    "**펜 트리뱅크**(Penn Treebank, PTB) 데이터셋. word2vec 발명자인 토마스 미콜로프(Tomas Mikolov) 웹 페이지에서 받을 수 있습니다. 원래의 PTB 문장에 몇 가지 전처리가 되어있습니다. 희소한 단어는 `<unk>`로 치환되어 있다던가, 구체적인 숫자는 `N`으로 대체되어 있습니다."
   ]
  },
  {
   "cell_type": "code",
   "execution_count": 1,
   "metadata": {},
   "outputs": [],
   "source": [
    "import os\n",
    "\n",
    "if 'ptb.train.txt' in os.listdir('./data'):\n",
    "    with open(\"./data/ptb.train.txt\", 'r') as f:\n",
    "        text = f.read()        \n",
    "else:\n",
    "    from urllib.request import urlopen\n",
    "    url = 'https://raw.githubusercontent.com/tomsercu/lstm/master/data/ptb.train.txt'\n",
    "    html = urlopen(url)\n",
    "    text = html.read().decode()\n",
    "\n",
    "    with open(\"./data/ptb.train.txt\", 'w') as f:\n",
    "        f.write(text)"
   ]
  },
  {
   "cell_type": "markdown",
   "metadata": {},
   "source": [
    "## 통계기반 벡터화\n",
    "\n",
    "동시발행 행렬을 만들고, PPMI 행렬로 변환한 다음, 안정성을 높이기 위해 SVD를 이용해 차원을 감소시켜 각 단어의 분산 표현을 만들어냅니다."
   ]
  },
  {
   "cell_type": "markdown",
   "metadata": {},
   "source": [
    "### 함수 정의"
   ]
  },
  {
   "cell_type": "code",
   "execution_count": 2,
   "metadata": {},
   "outputs": [],
   "source": [
    "import numpy as np\n",
    "\n",
    "# 전처리\n",
    "def preprocess(text):\n",
    "    \n",
    "    words = text.replace('\\n', '<eos>').strip().split()\n",
    "    word_to_id = {}\n",
    "    id_to_word = {}\n",
    "    for word in words:\n",
    "        if word not in word_to_id:\n",
    "            new_id = len(word_to_id)\n",
    "            word_to_id[word] = new_id\n",
    "            id_to_word[new_id] = word\n",
    "    \n",
    "    corpus = np.array([word_to_id[w] for w in words])\n",
    "    \n",
    "    return corpus, word_to_id, id_to_word\n",
    "\n",
    "# 동시발생 행렬 만들기\n",
    "def create_co_matrix(corpus, vocab_size, window_size):\n",
    "    corpus_size = len(corpus)\n",
    "    co_matrix = np.zeros((vocab_size, vocab_size))\n",
    "    \n",
    "    for idx, word_id in enumerate(corpus):\n",
    "        for i in range(1, window_size+1):\n",
    "            left_idx = idx-i\n",
    "            right_idx = idx+i\n",
    "            \n",
    "            if left_idx >= 0:\n",
    "                left_word_id = corpus[left_idx]\n",
    "                co_matrix[word_id, left_word_id] += 1\n",
    "                \n",
    "            if right_idx < corpus_size:\n",
    "                right_word_id = corpus[right_idx]\n",
    "                co_matrix[word_id, right_word_id] += 1\n",
    "    return co_matrix\n",
    "\n",
    "# 양의 상호정보량 구하기\n",
    "def ppmi(C, eps=1e-8):\n",
    "    N = np.sum(C)\n",
    "    S = np.sum(C, axis=0, keepdims=True)\n",
    "    pmi = np.log2(C * N / np.dot(S.T, S) + eps)\n",
    "    ppmi = np.maximum(pmi, 0)\n",
    "    return ppmi"
   ]
  },
  {
   "cell_type": "markdown",
   "metadata": {},
   "source": [
    "### 실행"
   ]
  },
  {
   "cell_type": "code",
   "execution_count": 3,
   "metadata": {},
   "outputs": [
    {
     "name": "stdout",
     "output_type": "stream",
     "text": [
      "동시발생 수 계산 ...\n",
      "PPMI 계산 ...\n",
      "SVD 계산 ...\n"
     ]
    }
   ],
   "source": [
    "window_size = 2\n",
    "wordvec_size = 100\n",
    "\n",
    "corpus, word_to_id, id_to_word = preprocess(text)\n",
    "print(\"동시발생 수 계산 ...\")\n",
    "vocab_size = len(word_to_id)\n",
    "co_matrix = create_co_matrix(corpus, vocab_size, window_size)\n",
    "print(\"PPMI 계산 ...\")\n",
    "W = ppmi(co_matrix)\n",
    "\n",
    "print(\"SVD 계산 ...\")\n",
    "from sklearn.decomposition import PCA, TruncatedSVD\n",
    "# TruncatedSVD(n_components=wordvec_size, algorithm='randomized', n_iter=5)\n",
    "svd = PCA(wordvec_size)\n",
    "word_vecs = svd.fit_transform(W) "
   ]
  },
  {
   "cell_type": "markdown",
   "metadata": {},
   "source": [
    "## 평가\n",
    "\n",
    "특정 단어를 넣었을 때 유사한 단어를 가려낼 수 있는지, 그리고 단어 간 비유적 관계를 찾아낼 수 있는지를 볼 것입니다."
   ]
  },
  {
   "cell_type": "markdown",
   "metadata": {},
   "source": [
    "### 함수 정의"
   ]
  },
  {
   "cell_type": "code",
   "execution_count": 4,
   "metadata": {},
   "outputs": [],
   "source": [
    "# 가장 비슷한 단어 출력\n",
    "def most_similar(query, word_to_id, id_to_word, similarity_matirx, top=5):\n",
    "    if query not in word_to_id:\n",
    "        print('%s(을)를 찾을 수 없습니다.' % query)\n",
    "        return\n",
    "    \n",
    "    print('\\n[query] ' + query)\n",
    "    query_id = word_to_id[query]\n",
    "    similarity = similarity_matirx[query_id]\n",
    "    \n",
    "    # 코사인 유사도 기준으로 내림차순으로 출력\n",
    "    count = 0\n",
    "    for i in (-1 * similarity).argsort():\n",
    "        if id_to_word[i] == query:\n",
    "            continue\n",
    "        print(' %s: %s' % (id_to_word[i], similarity[i]))\n",
    "        \n",
    "        count += 1\n",
    "        if count >= top:\n",
    "            return\n",
    "\n",
    "\n",
    "def analogy(a, b, c, word_to_id, id_to_word, word_vecs, top=5):\n",
    "    for word in (a, b, c):\n",
    "        if word not in word_to_id:\n",
    "            print('%s(을)를 찾을 수 없습니다.' % word)\n",
    "            return\n",
    "\n",
    "    print('\\n[analogy] ' + a + ':' + b + ' = ' + c + ':?')\n",
    "    a_vec, b_vec, c_vec = word_vecs[word_to_id[a]], word_vecs[word_to_id[b]], word_vecs[word_to_id[c]]\n",
    "    query_vec = b_vec - a_vec + c_vec\n",
    "    word_vecs_norm = word_vecs / np.linalg.norm(word_vecs, axis=1, keepdims=True)\n",
    "    similarity = np.dot(word_vecs_norm, query_vec)\n",
    "\n",
    "    count = 0\n",
    "    for i in (-1 * similarity).argsort():\n",
    "        if id_to_word[i] in (a, b, c):\n",
    "            continue\n",
    "        print(' {0}: {1}'.format(id_to_word[i], similarity[i]))\n",
    "\n",
    "        count += 1\n",
    "        if count >= top:\n",
    "            return"
   ]
  },
  {
   "cell_type": "markdown",
   "metadata": {},
   "source": [
    "### 실행"
   ]
  },
  {
   "cell_type": "code",
   "execution_count": 5,
   "metadata": {},
   "outputs": [
    {
     "name": "stdout",
     "output_type": "stream",
     "text": [
      "\n",
      "[query] you\n",
      " i: 0.8206609113936517\n",
      " we: 0.8003700893472653\n",
      " do: 0.7728013785963217\n",
      " 'll: 0.746834338115592\n",
      " really: 0.6980334721029142\n",
      "\n",
      "[query] year\n",
      " earlier: 0.7798894360846084\n",
      " month: 0.7747791483920138\n",
      " last: 0.7534767295188\n",
      " quarter: 0.718144829677893\n",
      " next: 0.6890402260839403\n",
      "\n",
      "[query] car\n",
      " auto: 0.7069211745048384\n",
      " luxury: 0.6213613075237677\n",
      " domestic: 0.6197783071282318\n",
      " cars: 0.5737282860838181\n",
      " truck: 0.5733657897232981\n",
      "\n",
      "[query] toyota\n",
      " motor: 0.7564896308425962\n",
      " motors: 0.6771316899544664\n",
      " mazda: 0.6211671489592199\n",
      " nissan: 0.6081789979683243\n",
      " lexus: 0.5990222801564462\n"
     ]
    }
   ],
   "source": [
    "from sklearn.metrics.pairwise import cosine_similarity\n",
    "\n",
    "similarity_matirx = cosine_similarity(word_vecs)\n",
    "\n",
    "querys = ['you', 'year', 'car', 'toyota']\n",
    "for query in querys:\n",
    "    most_similar(query, word_to_id, id_to_word, similarity_matirx)"
   ]
  },
  {
   "cell_type": "code",
   "execution_count": 6,
   "metadata": {},
   "outputs": [
    {
     "name": "stdout",
     "output_type": "stream",
     "text": [
      "\n",
      "[analogy] king:man = queen:?\n",
      " woman: 11.109978954275343\n",
      " veteran: 10.112878562462729\n",
      " spy: 9.18254148389227\n",
      " kate: 9.051702564295685\n",
      " neither: 8.705785226223396\n",
      "\n",
      "[analogy] take:took = go:?\n",
      " went: 19.618426734469903\n",
      " sent: 17.787972569031126\n",
      " goes: 16.053553273364493\n",
      " comes: 15.670367737135575\n",
      " turns: 15.523764295884254\n",
      "\n",
      "[analogy] car:cars = child:?\n",
      " genes: 10.581216924673198\n",
      " cells: 10.131987970480768\n",
      " proteins: 9.738929647999385\n",
      " bacteria: 9.276133347291076\n",
      " elderly: 9.132694486825233\n",
      "\n",
      "[analogy] good:better = bad:?\n",
      " worse: 13.331834322954343\n",
      " harder: 9.567695673189087\n",
      " larger: 9.274110744367498\n",
      " apart: 9.141132657625825\n",
      " often: 9.06910099138482\n"
     ]
    }
   ],
   "source": [
    "analogy('king', 'man', 'queen',  word_to_id, id_to_word, word_vecs)\n",
    "analogy('take', 'took', 'go',  word_to_id, id_to_word, word_vecs)\n",
    "analogy('car', 'cars', 'child',  word_to_id, id_to_word, word_vecs)\n",
    "analogy('good', 'better', 'bad',  word_to_id, id_to_word, word_vecs)"
   ]
  },
  {
   "cell_type": "code",
   "execution_count": 7,
   "metadata": {},
   "outputs": [
    {
     "data": {
      "image/png": "[encoded data removed]",
      "text/plain": [
       "<Figure size 432x288 with 1 Axes>"
      ]
     },
     "metadata": {
      "needs_background": "light"
     },
     "output_type": "display_data"
    }
   ],
   "source": [
    "import matplotlib.pyplot as plt\n",
    "\n",
    "words = ['teacher', 'doctor', 'student', 'driver', 'king', 'queen',\n",
    "         'show', 'showed', 'showing', 'shown',\n",
    "         'choose', 'choosing', 'chose', 'choice'\n",
    "        ]\n",
    "word_ids = [word_to_id[word] for word in words]\n",
    "\n",
    "plt.scatter(word_vecs[word_ids, 0], word_vecs[word_ids, 1])\n",
    "for word in words:\n",
    "    x = word_vecs[word_to_id[word], 0]\n",
    "    y = word_vecs[word_to_id[word], 1]\n",
    "    plt.text(x, y, word)\n",
    "plt.show()"
   ]
  }
 ],
 "metadata": {
  "kernelspec": {
   "display_name": "Python 3",
   "language": "python",
   "name": "python3"
  },
  "language_info": {
   "codemirror_mode": {
    "name": "ipython",
    "version": 3
   },
   "file_extension": ".py",
   "mimetype": "text/x-python",
   "name": "python",
   "nbconvert_exporter": "python",
   "pygments_lexer": "ipython3",
   "version": "3.7.4"
  },
  "varInspector": {
   "cols": {
    "lenName": 16,
    "lenType": 16,
    "lenVar": 40
   },
   "kernels_config": {
    "python": {
     "delete_cmd_postfix": "",
     "delete_cmd_prefix": "del ",
     "library": "var_list.py",
     "varRefreshCmd": "print(var_dic_list())"
    },
    "r": {
     "delete_cmd_postfix": ") ",
     "delete_cmd_prefix": "rm(",
     "library": "var_list.r",
     "varRefreshCmd": "cat(var_dic_list()) "
    }
   },
   "types_to_exclude": [
    "module",
    "function",
    "builtin_function_or_method",
    "instance",
    "_Feature"
   ],
   "window_display": false
  }
 },
 "nbformat": 4,
 "nbformat_minor": 4
}
