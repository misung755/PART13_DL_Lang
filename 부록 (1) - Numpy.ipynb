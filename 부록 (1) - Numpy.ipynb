{
 "cells": [
  {
   "cell_type": "markdown",
   "metadata": {},
   "source": [
    "# numpy 기본 문법\n",
    "\n",
    "numpy는 파이썬의 수치 계산용 라이브러리입니다. pandas, sklearn 등의 라이브러리가 넘파이에 강하게 의존하고 있습니다. 이 절에서는 numpy의 핵심 기능을 익히고, 몇 가지 연습을 해보겠습니다."
   ]
  },
  {
   "cell_type": "markdown",
   "metadata": {},
   "source": [
    "## 배열 생성하기"
   ]
  },
  {
   "cell_type": "code",
   "execution_count": 2,
   "metadata": {},
   "outputs": [
    {
     "data": {
      "text/plain": [
       "array([[1, 1],\n",
       "       [0, 2]])"
      ]
     },
     "execution_count": 2,
     "metadata": {},
     "output_type": "execute_result"
    }
   ],
   "source": [
    "import numpy as np\n",
    "\n",
    "# 리스트를 입력\n",
    "np.array([[1, 1], \n",
    "          [0, 2]])"
   ]
  },
  {
   "cell_type": "code",
   "execution_count": 2,
   "metadata": {},
   "outputs": [
    {
     "data": {
      "text/plain": [
       "array([[0., 0., 0., 0.],\n",
       "       [0., 0., 0., 0.]])"
      ]
     },
     "execution_count": 2,
     "metadata": {},
     "output_type": "execute_result"
    }
   ],
   "source": [
    "# 원소가 0인 배열\n",
    "np.zeros((2, 4))"
   ]
  },
  {
   "cell_type": "code",
   "execution_count": 3,
   "metadata": {},
   "outputs": [
    {
     "data": {
      "text/plain": [
       "array([[1., 1., 1., 1.],\n",
       "       [1., 1., 1., 1.],\n",
       "       [1., 1., 1., 1.]])"
      ]
     },
     "execution_count": 3,
     "metadata": {},
     "output_type": "execute_result"
    }
   ],
   "source": [
    "# 원소가 1인 배열\n",
    "np.ones((3, 4))"
   ]
  },
  {
   "cell_type": "code",
   "execution_count": 4,
   "metadata": {},
   "outputs": [
    {
     "data": {
      "text/plain": [
       "array([[ 1.32412054, -1.69970733,  0.78053091],\n",
       "       [-0.77850834,  0.31959289, -3.00926407]])"
      ]
     },
     "execution_count": 4,
     "metadata": {},
     "output_type": "execute_result"
    }
   ],
   "source": [
    "# 표준정규분포에서 샘플링한 배열\n",
    "np.random.randn(2, 3)"
   ]
  },
  {
   "cell_type": "code",
   "execution_count": 5,
   "metadata": {},
   "outputs": [
    {
     "data": {
      "text/plain": [
       "array([1.        , 1.33333333, 1.66666667, 2.        ])"
      ]
     },
     "execution_count": 5,
     "metadata": {},
     "output_type": "execute_result"
    }
   ],
   "source": [
    "# 1과 2 사이를 균등한 비율로 나눈, 원소가 4개인 배열 생성\n",
    "np.linspace(1, 2, 4)"
   ]
  },
  {
   "cell_type": "markdown",
   "metadata": {},
   "source": [
    "## 배열의 형상 조작하기"
   ]
  },
  {
   "cell_type": "code",
   "execution_count": 6,
   "metadata": {},
   "outputs": [
    {
     "data": {
      "text/plain": [
       "(3, 2)"
      ]
     },
     "execution_count": 6,
     "metadata": {},
     "output_type": "execute_result"
    }
   ],
   "source": [
    "X = np.array([[1, 1], \n",
    "              [0, 2],\n",
    "              [4, 4]])\n",
    "\n",
    "# 배열의 형상은 3 x 2입니다.\n",
    "X.shape"
   ]
  },
  {
   "cell_type": "code",
   "execution_count": 7,
   "metadata": {},
   "outputs": [
    {
     "data": {
      "text/plain": [
       "array([[1, 0, 4],\n",
       "       [1, 2, 4]])"
      ]
     },
     "execution_count": 7,
     "metadata": {},
     "output_type": "execute_result"
    }
   ],
   "source": [
    "# 행렬을 전치해줍니다.\n",
    "X.T"
   ]
  },
  {
   "cell_type": "code",
   "execution_count": 8,
   "metadata": {},
   "outputs": [
    {
     "data": {
      "text/plain": [
       "array([1, 1, 0, 2, 4, 4])"
      ]
     },
     "execution_count": 8,
     "metadata": {},
     "output_type": "execute_result"
    }
   ],
   "source": [
    "# 배열을 일자로 쭉 펼칩니다. \n",
    "X.ravel()"
   ]
  },
  {
   "cell_type": "markdown",
   "metadata": {},
   "source": [
    "## 인덱싱"
   ]
  },
  {
   "cell_type": "code",
   "execution_count": 9,
   "metadata": {},
   "outputs": [
    {
     "data": {
      "text/plain": [
       "1"
      ]
     },
     "execution_count": 9,
     "metadata": {},
     "output_type": "execute_result"
    }
   ],
   "source": [
    "X = np.array([[1, 1], \n",
    "              [0, 2],\n",
    "              [4, 4]])\n",
    "\n",
    "# 0번째 행, 1번째 열의 원소 가져오기\n",
    "X[0, 1]"
   ]
  },
  {
   "cell_type": "code",
   "execution_count": 10,
   "metadata": {},
   "outputs": [
    {
     "data": {
      "text/plain": [
       "array([1, 2, 4])"
      ]
     },
     "execution_count": 10,
     "metadata": {},
     "output_type": "execute_result"
    }
   ],
   "source": [
    "# 2번째 열 가져오기\n",
    "X[:, 1]"
   ]
  },
  {
   "cell_type": "code",
   "execution_count": 11,
   "metadata": {},
   "outputs": [
    {
     "data": {
      "text/plain": [
       "array([[1, 1],\n",
       "       [4, 4]])"
      ]
     },
     "execution_count": 11,
     "metadata": {},
     "output_type": "execute_result"
    }
   ],
   "source": [
    "# 1, 3번째 행 가져오기\n",
    "X[[0, 2]]"
   ]
  },
  {
   "cell_type": "markdown",
   "metadata": {},
   "source": [
    "## 점곱(dot )"
   ]
  },
  {
   "cell_type": "code",
   "execution_count": 12,
   "metadata": {},
   "outputs": [
    {
     "data": {
      "text/plain": [
       "3210"
      ]
     },
     "execution_count": 12,
     "metadata": {},
     "output_type": "execute_result"
    }
   ],
   "source": [
    "x = np.array([1, 2, 3])\n",
    "y = np.array([10, 100, 1000])\n",
    "\n",
    "np.dot(x, y)"
   ]
  },
  {
   "cell_type": "code",
   "execution_count": 13,
   "metadata": {},
   "outputs": [
    {
     "data": {
      "text/plain": [
       "array([110, 200, 440])"
      ]
     },
     "execution_count": 13,
     "metadata": {},
     "output_type": "execute_result"
    }
   ],
   "source": [
    "X = np.array([[1, 1], \n",
    "              [0, 2],\n",
    "              [4, 4]])\n",
    "\n",
    "y = np.array([10, 100])\n",
    "\n",
    "np.dot(X, y)"
   ]
  },
  {
   "cell_type": "code",
   "execution_count": 14,
   "metadata": {},
   "outputs": [
    {
     "data": {
      "text/plain": [
       "array([[  11,  110, 1100],\n",
       "       [   2,   20,  200],\n",
       "       [  44,  440, 4400]])"
      ]
     },
     "execution_count": 14,
     "metadata": {},
     "output_type": "execute_result"
    }
   ],
   "source": [
    "X = np.array([[1, 1], \n",
    "              [0, 2],\n",
    "              [4, 4]])\n",
    "\n",
    "Y = np.array([[10, 100, 1000], \n",
    "              [1, 10, 100]])\n",
    "\n",
    "np.dot(X, Y)"
   ]
  },
  {
   "cell_type": "markdown",
   "metadata": {},
   "source": [
    "## 원소별 연산"
   ]
  },
  {
   "cell_type": "code",
   "execution_count": 15,
   "metadata": {},
   "outputs": [
    {
     "data": {
      "text/plain": [
       "array([[2, 2],\n",
       "       [0, 4],\n",
       "       [8, 8]])"
      ]
     },
     "execution_count": 15,
     "metadata": {},
     "output_type": "execute_result"
    }
   ],
   "source": [
    "X = np.array([[1, 1], \n",
    "              [0, 2],\n",
    "              [4, 4]])\n",
    "\n",
    "# 형상이 같은 두 배열에 대해 연산을 해주면,\n",
    "# 같은 위치에 있는 원소끼리 연산을 해줍니다.\n",
    "X + X"
   ]
  },
  {
   "cell_type": "markdown",
   "metadata": {},
   "source": [
    "## 범용 함수(universal function)"
   ]
  },
  {
   "cell_type": "code",
   "execution_count": 16,
   "metadata": {},
   "outputs": [
    {
     "data": {
      "text/plain": [
       "array([[ 0.84147098,  0.84147098],\n",
       "       [ 0.        ,  0.90929743],\n",
       "       [-0.7568025 , -0.7568025 ]])"
      ]
     },
     "execution_count": 16,
     "metadata": {},
     "output_type": "execute_result"
    }
   ],
   "source": [
    "X = np.array([[1, 1], \n",
    "              [0, 2],\n",
    "              [4, 4]])\n",
    "\n",
    "# 모든 X의 원소에 대해 sin 함수가 적용된다. \n",
    "# 이와 같이 동작하는 함수를 범용 함수라고 합니다.\n",
    "np.sin(X)"
   ]
  },
  {
   "cell_type": "markdown",
   "metadata": {},
   "source": [
    "## 브로드 캐스팅"
   ]
  },
  {
   "cell_type": "code",
   "execution_count": 3,
   "metadata": {},
   "outputs": [
    {
     "data": {
      "text/plain": [
       "array([[2, 2],\n",
       "       [1, 3],\n",
       "       [5, 5]])"
      ]
     },
     "execution_count": 3,
     "metadata": {},
     "output_type": "execute_result"
    }
   ],
   "source": [
    "X = np.array([[1, 1], \n",
    "              [0, 2],\n",
    "              [4, 4]])\n",
    "\n",
    "# 더하기 빼기 등의 연산을 하면, 배열 내 모든 원소에 대해 적용이 됩니다.\n",
    "X + 1"
   ]
  },
  {
   "cell_type": "code",
   "execution_count": 6,
   "metadata": {},
   "outputs": [
    {
     "data": {
      "text/plain": [
       "((3, 2), (2,))"
      ]
     },
     "execution_count": 6,
     "metadata": {},
     "output_type": "execute_result"
    }
   ],
   "source": [
    "X.shape, y.shape"
   ]
  },
  {
   "cell_type": "code",
   "execution_count": 5,
   "metadata": {},
   "outputs": [
    {
     "data": {
      "text/plain": [
       "array([[ 11, 101],\n",
       "       [ 10, 102],\n",
       "       [ 14, 104]])"
      ]
     },
     "execution_count": 5,
     "metadata": {},
     "output_type": "execute_result"
    }
   ],
   "source": [
    "y = np.array([10, 100])\n",
    "\n",
    "# y를 더해주는 연산이 X의 각 행마다 적용됩니다. \n",
    "# 이처럼 배열의 형상이 다르더라도, 일치하는 축을 기준으로 연산이 수행됩니다. \n",
    "# 이를 \"브로드 캐스팅\"이라 부릅니다.\n",
    "X + y"
   ]
  },
  {
   "cell_type": "code",
   "execution_count": 19,
   "metadata": {},
   "outputs": [
    {
     "data": {
      "text/plain": [
       "array([[3, 4, 5],\n",
       "       [4, 5, 6],\n",
       "       [5, 6, 7]])"
      ]
     },
     "execution_count": 19,
     "metadata": {},
     "output_type": "execute_result"
    }
   ],
   "source": [
    "x = np.array([[1], \n",
    "              [2], \n",
    "              [3]])\n",
    "\n",
    "y = np.array([[2, 3, 4]])\n",
    "\n",
    "x + y"
   ]
  },
  {
   "cell_type": "markdown",
   "metadata": {},
   "source": [
    "# 축 이해하기"
   ]
  },
  {
   "cell_type": "code",
   "execution_count": 20,
   "metadata": {},
   "outputs": [
    {
     "data": {
      "text/plain": [
       "True"
      ]
     },
     "execution_count": 20,
     "metadata": {},
     "output_type": "execute_result"
    }
   ],
   "source": [
    "X = np.array([[1, 1], \n",
    "              [0, 2],\n",
    "              [4, 4]])\n",
    "\n",
    "# X의 모든 원소에 대한 평균, 더하기, 표준편차 등은 다음과 같이 계산할 수 있습니다.\n",
    "X.mean() == np.mean(X)\n",
    "X.sum() == np.sum(X)\n",
    "X.std() == np.std(X)"
   ]
  },
  {
   "cell_type": "code",
   "execution_count": 21,
   "metadata": {},
   "outputs": [
    {
     "data": {
      "text/plain": [
       "array([1.66666667, 2.33333333])"
      ]
     },
     "execution_count": 21,
     "metadata": {},
     "output_type": "execute_result"
    }
   ],
   "source": [
    "# 이때 축(axis)를 설정해주면, 해당 축을 기준으로 평균, 더하기 등을 계산해줍니다.\n",
    "\n",
    "mean = np.mean(X, axis=0)\n",
    "mean"
   ]
  },
  {
   "cell_type": "code",
   "execution_count": 22,
   "metadata": {},
   "outputs": [
    {
     "data": {
      "text/plain": [
       "(2,)"
      ]
     },
     "execution_count": 22,
     "metadata": {},
     "output_type": "execute_result"
    }
   ],
   "source": [
    "# 0번째 축이 사라진 걸 보실 수 있습니다.\n",
    "mean.shape"
   ]
  },
  {
   "cell_type": "code",
   "execution_count": 23,
   "metadata": {},
   "outputs": [
    {
     "data": {
      "text/plain": [
       "array([[1.66666667, 2.33333333]])"
      ]
     },
     "execution_count": 23,
     "metadata": {},
     "output_type": "execute_result"
    }
   ],
   "source": [
    "# keepdims=True로 설정하면, 배열의 차원(dims)은 변하지 않습니다.\n",
    "mean2 = np.mean(X, axis=0, keepdims=True)\n",
    "mean2"
   ]
  },
  {
   "cell_type": "code",
   "execution_count": 24,
   "metadata": {},
   "outputs": [
    {
     "data": {
      "text/plain": [
       "(1, 2)"
      ]
     },
     "execution_count": 24,
     "metadata": {},
     "output_type": "execute_result"
    }
   ],
   "source": [
    "mean2.shape"
   ]
  },
  {
   "cell_type": "code",
   "execution_count": 25,
   "metadata": {},
   "outputs": [
    {
     "data": {
      "text/plain": [
       "False"
      ]
     },
     "execution_count": 25,
     "metadata": {},
     "output_type": "execute_result"
    }
   ],
   "source": [
    "mean.ndim == mean2.ndim"
   ]
  },
  {
   "cell_type": "markdown",
   "metadata": {},
   "source": [
    "# 연산 가속화\n",
    "\n",
    "numpy의 장점은 벡터 또는 행렬 계산을 효율적으로 수행한다는 점입니다. "
   ]
  },
  {
   "cell_type": "code",
   "execution_count": 26,
   "metadata": {},
   "outputs": [
    {
     "name": "stdout",
     "output_type": "stream",
     "text": [
      "250085.73099667614\n",
      "Vectorized version:  23.063182830810547 ms\n",
      "\n",
      "250085.73099667637\n",
      "For loop version  :  358.07085037231445 ms\n"
     ]
    }
   ],
   "source": [
    "# 이 부분의 예제 코드는 andrew ag의 딥러닝 강좌에서 가져왔습니다.\n",
    "# https://www.youtube.com/watch?v=qsIrQi0fzbY&list=PLkDaE6sCZn6Ec-XTbcX1uRg2_u4xOEky0&index=17\n",
    "## for문 보다 numpy가 훨씬 빠르다!!!\n",
    "import numpy as np\n",
    "import time \n",
    "\n",
    "a = np.random.rand(1000000)\n",
    "b = np.random.rand(1000000)\n",
    "\n",
    "tic = time.time()\n",
    "c = np.dot(a, b)\n",
    "toc = time.time()\n",
    "\n",
    "print(c)\n",
    "print(\"Vectorized version: \", 1000*(toc-tic), \"ms\")\n",
    "\n",
    "c = 0\n",
    "tic = time.time()\n",
    "for i in range(1000000):\n",
    "    c += a[i]*b[i]\n",
    "toc = time.time()\n",
    "\n",
    "print()\n",
    "print(c)\n",
    "print(\"For loop version  : \", 1000*(toc-tic), \"ms\")\n"
   ]
  },
  {
   "cell_type": "markdown",
   "metadata": {},
   "source": [
    "위에서 보듯이, 원소끼리 일일이 계산하는 것보다 벡터로 계산하는 것이 낫습니다. 마찬가지로 벡터끼리 일일이 계산하는 것보다 행렬 곱으로 계산하면 연산을 빠르게 할 수 있습니다. 아래 예제는 유클리디안 거리를 3가지 다른 방식으로 계산한 것입니다. `for`문을 적게 사용할수록 연산 속도가 빨라지는 것을 확인하실 수 있습니다. 일반적으로 `for`문을 사용하는 대신, 행렬 곱을 이용해 연산을 한번에 처리하는 것이 좋습니다."
   ]
  },
  {
   "cell_type": "code",
   "execution_count": 27,
   "metadata": {},
   "outputs": [
    {
     "name": "stdout",
     "output_type": "stream",
     "text": [
      "1291.8165647115566\n",
      "Two For loops:  546.5366840362549 ms\n",
      "\n",
      "1291.8165647115566\n",
      "One For Loop :  18.920421600341797 ms\n",
      "\n",
      "1291.8165647115566\n",
      "Zero For Loop:  7.979631423950195 ms\n"
     ]
    }
   ],
   "source": [
    "X = np.random.rand(1000, 100)\n",
    "Y = np.random.rand(100, 100)\n",
    "\n",
    "X_size = X.shape[0]\n",
    "Y_size = Y.shape[0]\n",
    "\n",
    "        \n",
    "# for문 2번 사용\n",
    "dists = np.zeros((X_size, Y_size))\n",
    "tic = time.time()\n",
    "for i in range(X_size):\n",
    "    for j in range(Y_size):\n",
    "        dists[i, j] = np.sqrt(np.sum((X[i] - Y[j])**2))\n",
    "toc = time.time()\n",
    "print(np.linalg.norm(dists))\n",
    "print(\"Two For loops: \", 1000*(toc-tic), \"ms\")\n",
    "\n",
    "\n",
    "# for문 1번 사용\n",
    "dists = np.zeros((X_size, Y_size))\n",
    "tic = time.time()\n",
    "for i in range(X_size):\n",
    "    dists[i, :] = np.sqrt(np.sum((X[i] - Y)**2, axis=1))\n",
    "toc = time.time()\n",
    "print()\n",
    "print(np.linalg.norm(dists))\n",
    "print(\"One For Loop : \", 1000*(toc-tic), \"ms\")\n",
    "\n",
    "\n",
    "# for문 0번 사용\n",
    "tic = time.time()\n",
    "dists = np.sqrt(np.sum(X**2, axis=1, keepdims=True) \n",
    "                    + np.sum(Y**2, axis=1)\n",
    "                    - 2 * np.dot(X, Y.T))\n",
    "toc = time.time()\n",
    "print()\n",
    "print(np.linalg.norm(dists))\n",
    "print(\"Zero For Loop: \", 1000*(toc-tic), \"ms\")"
   ]
  },
  {
   "cell_type": "code",
   "execution_count": 7,
   "metadata": {},
   "outputs": [
    {
     "data": {
      "text/plain": [
       "3.7416573867739413"
      ]
     },
     "execution_count": 7,
     "metadata": {},
     "output_type": "execute_result"
    }
   ],
   "source": [
    "v1 = np.array([1, 2, 3])\n",
    "v2 = np.array([4, 2, 3])\n",
    "\n",
    "np.linalg.norm(v1) # v1의 벡터값 구하기"
   ]
  },
  {
   "cell_type": "code",
   "execution_count": null,
   "metadata": {},
   "outputs": [],
   "source": []
  }
 ],
 "metadata": {
  "kernelspec": {
   "display_name": "Python 3",
   "language": "python",
   "name": "python3"
  },
  "language_info": {
   "codemirror_mode": {
    "name": "ipython",
    "version": 3
   },
   "file_extension": ".py",
   "mimetype": "text/x-python",
   "name": "python",
   "nbconvert_exporter": "python",
   "pygments_lexer": "ipython3",
   "version": "3.7.6"
  }
 },
 "nbformat": 4,
 "nbformat_minor": 4
}
