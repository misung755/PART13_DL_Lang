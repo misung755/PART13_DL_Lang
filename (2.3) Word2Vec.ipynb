{
 "cells": [
  {
   "cell_type": "markdown",
   "metadata": {},
   "source": [
    "# PTB 테이터 불러오기"
   ]
  },
  {
   "cell_type": "code",
   "execution_count": 2,
   "metadata": {},
   "outputs": [],
   "source": [
    "import os\n",
    "\n",
    "if 'ptb.train.txt' in os.listdir('./data'):\n",
    "    with open(\"./data/ptb.train.txt\", 'r') as f:\n",
    "        text = f.read()        \n",
    "else:\n",
    "    from urllib.request import urlopen\n",
    "    url = 'https://raw.githubusercontent.com/tomsercu/lstm/master/data/ptb.train.txt'\n",
    "    html = urlopen(url)\n",
    "    text = html.read().decode()\n",
    "\n",
    "    with open(\"./data/ptb.train.txt\", 'w') as f:\n",
    "        f.write(text)\n",
    "        \n",
    "words = text.replace('\\n', '<eos>').strip().split()"
   ]
  },
  {
   "cell_type": "markdown",
   "metadata": {},
   "source": [
    "# Gensim\n",
    "\n",
    "훈련하고 싶은 텍스트를 문서 리스트 안의 토큰 리스트 형식으로 넘기면 된다."
   ]
  },
  {
   "cell_type": "code",
   "execution_count": 3,
   "metadata": {},
   "outputs": [],
   "source": [
    "from gensim.models import Word2Vec\n",
    "\n",
    "model = Word2Vec([words], iter=100)"
   ]
  },
  {
   "cell_type": "code",
   "execution_count": 4,
   "metadata": {},
   "outputs": [
    {
     "data": {
      "text/plain": [
       "[('south', 0.9659397602081299),\n",
       " ('establishing', 0.915379524230957),\n",
       " ('opened', 0.914321780204773),\n",
       " ('taiwan', 0.9124946594238281),\n",
       " ('diplomatic', 0.910836398601532),\n",
       " ('enact', 0.8988201022148132),\n",
       " ('applied', 0.8971421718597412),\n",
       " ('vowed', 0.8944114446640015),\n",
       " ('trade', 0.8911492824554443),\n",
       " ('credit', 0.8884899616241455)]"
      ]
     },
     "execution_count": 4,
     "metadata": {},
     "output_type": "execute_result"
    }
   ],
   "source": [
    "model.wv.most_similar(\"korea\")"
   ]
  },
  {
   "cell_type": "code",
   "execution_count": 5,
   "metadata": {},
   "outputs": [
    {
     "data": {
      "text/plain": [
       "[('unsuccessfully', 0.9149701595306396),\n",
       " ('getting', 0.8899003267288208),\n",
       " ('triple', 0.8664522171020508),\n",
       " ('week', 0.8635020852088928),\n",
       " ('earlier', 0.8572570085525513),\n",
       " ('spring', 0.8525286912918091),\n",
       " ('win', 0.8494417071342468),\n",
       " ('units', 0.8403512239456177),\n",
       " ('february', 0.8393557071685791),\n",
       " ('regulators', 0.8270689249038696)]"
      ]
     },
     "execution_count": 5,
     "metadata": {},
     "output_type": "execute_result"
    }
   ],
   "source": [
    "model.wv.most_similar('year')"
   ]
  },
  {
   "cell_type": "code",
   "execution_count": 6,
   "metadata": {},
   "outputs": [
    {
     "data": {
      "text/plain": [
       "[('hero', 0.8657249212265015),\n",
       " ('exposures', 0.8618465662002563),\n",
       " ('offers', 0.8603788018226624),\n",
       " ('sweet', 0.8589008450508118),\n",
       " ('unusually', 0.853980302810669),\n",
       " ('side', 0.8538755178451538),\n",
       " ('stadium', 0.8537513017654419),\n",
       " ('balls', 0.8510669469833374),\n",
       " ('project', 0.8508895635604858),\n",
       " ('enters', 0.8505894541740417)]"
      ]
     },
     "execution_count": 6,
     "metadata": {},
     "output_type": "execute_result"
    }
   ],
   "source": [
    "model.wv.most_similar(positive=['queen', 'man'], negative=['king'])"
   ]
  }
 ],
 "metadata": {
  "kernelspec": {
   "display_name": "Python 3",
   "language": "python",
   "name": "python3"
  },
  "language_info": {
   "codemirror_mode": {
    "name": "ipython",
    "version": 3
   },
   "file_extension": ".py",
   "mimetype": "text/x-python",
   "name": "python",
   "nbconvert_exporter": "python",
   "pygments_lexer": "ipython3",
   "version": "3.7.4"
  }
 },
 "nbformat": 4,
 "nbformat_minor": 4
}
