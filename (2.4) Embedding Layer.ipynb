{
 "cells": [
  {
   "cell_type": "markdown",
   "metadata": {},
   "source": [
    "# keras 사용법"
   ]
  },
  {
   "cell_type": "markdown",
   "metadata": {},
   "source": [
    "## Tokenizer 사용법"
   ]
  },
  {
   "cell_type": "code",
   "execution_count": 8,
   "metadata": {},
   "outputs": [],
   "source": [
    "from tensorflow.keras.preprocessing.text import Tokenizer\n",
    "\n",
    "samples = ['The cat sat on the mat.', 'The dog ate my homework.']\n",
    "\n",
    "tokenizer = Tokenizer(num_words=5) # num_words: 빈도수가 높은 5개 단어만 이용\n",
    "tokenizer.fit_on_texts(samples)"
   ]
  },
  {
   "cell_type": "code",
   "execution_count": 9,
   "metadata": {},
   "outputs": [
    {
     "data": {
      "text/plain": [
       "{'the': 1,\n",
       " 'cat': 2,\n",
       " 'sat': 3,\n",
       " 'on': 4,\n",
       " 'mat': 5,\n",
       " 'dog': 6,\n",
       " 'ate': 7,\n",
       " 'my': 8,\n",
       " 'homework': 9}"
      ]
     },
     "execution_count": 9,
     "metadata": {},
     "output_type": "execute_result"
    }
   ],
   "source": [
    "# 단어 인덱스는 빈도순으로 정렬되어 있습니다.\n",
    "tokenizer.word_index"
   ]
  },
  {
   "cell_type": "code",
   "execution_count": 10,
   "metadata": {},
   "outputs": [
    {
     "data": {
      "text/plain": [
       "[[1, 2, 3, 4, 1], [1]]"
      ]
     },
     "execution_count": 10,
     "metadata": {},
     "output_type": "execute_result"
    }
   ],
   "source": [
    "# 단어 인덱스가 1에서 num_words까지인 단어만 이용합니다.\n",
    "sequences = tokenizer.texts_to_sequences(samples)\n",
    "sequences"
   ]
  },
  {
   "cell_type": "code",
   "execution_count": 11,
   "metadata": {},
   "outputs": [
    {
     "data": {
      "text/plain": [
       "['the cat sat on the', 'the']"
      ]
     },
     "execution_count": 11,
     "metadata": {},
     "output_type": "execute_result"
    }
   ],
   "source": [
    "# 정수 시퀀스를 단어로 바꾸기\n",
    "tokenizer.sequences_to_texts(sequences)"
   ]
  },
  {
   "cell_type": "code",
   "execution_count": 12,
   "metadata": {},
   "outputs": [
    {
     "data": {
      "text/plain": [
       "2"
      ]
     },
     "execution_count": 12,
     "metadata": {},
     "output_type": "execute_result"
    }
   ],
   "source": [
    "# 문서 개수\n",
    "tokenizer.document_count"
   ]
  },
  {
   "cell_type": "markdown",
   "metadata": {},
   "source": [
    "## 패딩 처리\n",
    "\n",
    "텍스트 데이터는 길이가 제각각입니다. 어떤 문서는 길이가 길고, 어떤 건 짧습니다. 하지만 여러 개의 시퀀스 데이터를 한 번에 처리하기 위해서는 길이를 맞춰줄 필요가 있습니다. 이때 길이가 너무 긴 건 조금 자르고, 길이가 짧은 건 조금 늘려주는 작업을 하게 됩니다.\n",
    "\n",
    "길이가 짧은 문서를 늘리는 방법은 시퀀스의 앞이나 뒤에 인덱스가 0인 단어로 패딩하는 것입니다."
   ]
  },
  {
   "cell_type": "code",
   "execution_count": 13,
   "metadata": {},
   "outputs": [
    {
     "data": {
      "text/plain": [
       "array([[1, 2, 3, 4, 1],\n",
       "       [0, 0, 0, 0, 1]])"
      ]
     },
     "execution_count": 13,
     "metadata": {},
     "output_type": "execute_result"
    }
   ],
   "source": [
    "from tensorflow.keras.preprocessing.sequence import pad_sequences\n",
    "\n",
    "maxlen = 5\n",
    "pad_sequences(sequences, maxlen=maxlen)"
   ]
  },
  {
   "cell_type": "markdown",
   "metadata": {},
   "source": [
    "# IMDB 실습\n",
    "\n",
    "IMDB는 영화 리뷰 데이터 셋으로, 긍/부정 태그가 달려 있습니다. \n",
    "\n",
    "- https://ai.stanford.edu/~amaas/data/sentiment/ "
   ]
  },
  {
   "cell_type": "code",
   "execution_count": 14,
   "metadata": {},
   "outputs": [
    {
     "data": {
      "text/html": [
       "<div>\n",
       "<style scoped>\n",
       "    .dataframe tbody tr th:only-of-type {\n",
       "        vertical-align: middle;\n",
       "    }\n",
       "\n",
       "    .dataframe tbody tr th {\n",
       "        vertical-align: top;\n",
       "    }\n",
       "\n",
       "    .dataframe thead th {\n",
       "        text-align: right;\n",
       "    }\n",
       "</style>\n",
       "<table border=\"1\" class=\"dataframe\">\n",
       "  <thead>\n",
       "    <tr style=\"text-align: right;\">\n",
       "      <th></th>\n",
       "      <th>review</th>\n",
       "      <th>sentiment</th>\n",
       "    </tr>\n",
       "  </thead>\n",
       "  <tbody>\n",
       "    <tr>\n",
       "      <th>0</th>\n",
       "      <td>There are so many reasons as to why I rate the...</td>\n",
       "      <td>pos</td>\n",
       "    </tr>\n",
       "    <tr>\n",
       "      <th>1</th>\n",
       "      <td>Kenneth Branagh's \"Hamlet\" hits all the marks....</td>\n",
       "      <td>pos</td>\n",
       "    </tr>\n",
       "    <tr>\n",
       "      <th>2</th>\n",
       "      <td>My watch came a little too late but am glad i ...</td>\n",
       "      <td>pos</td>\n",
       "    </tr>\n",
       "    <tr>\n",
       "      <th>3</th>\n",
       "      <td>A brilliant Russian émigré devises the Stanis...</td>\n",
       "      <td>pos</td>\n",
       "    </tr>\n",
       "    <tr>\n",
       "      <th>4</th>\n",
       "      <td>As a another reviewer states Hanna's War is an...</td>\n",
       "      <td>pos</td>\n",
       "    </tr>\n",
       "  </tbody>\n",
       "</table>\n",
       "</div>"
      ],
      "text/plain": [
       "                                              review sentiment\n",
       "0  There are so many reasons as to why I rate the...       pos\n",
       "1  Kenneth Branagh's \"Hamlet\" hits all the marks....       pos\n",
       "2  My watch came a little too late but am glad i ...       pos\n",
       "3  A brilliant Russian émigré devises the Stanis...       pos\n",
       "4  As a another reviewer states Hanna's War is an...       pos"
      ]
     },
     "execution_count": 14,
     "metadata": {},
     "output_type": "execute_result"
    }
   ],
   "source": [
    "import pandas as pd\n",
    "\n",
    "trainset = pd.read_csv(\"./data/Imdb_train.csv\")\n",
    "testset = pd.read_csv(\"./data/Imdb_test.csv\")\n",
    "trainset.head()"
   ]
  },
  {
   "cell_type": "code",
   "execution_count": 15,
   "metadata": {},
   "outputs": [],
   "source": [
    "X_train_text = trainset.review\n",
    "X_test_text = testset.review\n",
    "y_train = trainset.sentiment.apply(lambda x: 1 if x=='pos' else 0)\n",
    "y_test = testset.sentiment.apply(lambda x: 1 if x=='pos' else 0)"
   ]
  },
  {
   "cell_type": "code",
   "execution_count": 16,
   "metadata": {},
   "outputs": [],
   "source": [
    "from tensorflow import keras\n",
    "from tensorflow.keras.preprocessing.text import Tokenizer\n",
    "from tensorflow.keras.preprocessing.sequence import pad_sequences\n",
    "\n",
    "max_words = 10000\n",
    "maxlen = 50\n",
    "\n",
    "tokenizer = Tokenizer(num_words=max_words)\n",
    "tokenizer.fit_on_texts(X_train_text)\n",
    "\n",
    "sequences = tokenizer.texts_to_sequences(X_train_text)\n",
    "test_sequences = tokenizer.texts_to_sequences(X_test_text)\n",
    "\n",
    "X_train = pad_sequences(sequences, maxlen)\n",
    "X_test = pad_sequences(test_sequences, maxlen)"
   ]
  },
  {
   "cell_type": "markdown",
   "metadata": {},
   "source": [
    "## 모델 만들고 훈련하기"
   ]
  },
  {
   "cell_type": "code",
   "execution_count": 18,
   "metadata": {},
   "outputs": [
    {
     "name": "stdout",
     "output_type": "stream",
     "text": [
      "Model: \"sequential_1\"\n",
      "_________________________________________________________________\n",
      "Layer (type)                 Output Shape              Param #   \n",
      "=================================================================\n",
      "embedding_1 (Embedding)      (None, 50, 1)             10000     \n",
      "_________________________________________________________________\n",
      "flatten_1 (Flatten)          (None, 50)                0         \n",
      "_________________________________________________________________\n",
      "dense_1 (Dense)              (None, 1)                 51        \n",
      "=================================================================\n",
      "Total params: 10,051\n",
      "Trainable params: 10,051\n",
      "Non-trainable params: 0\n",
      "_________________________________________________________________\n"
     ]
    }
   ],
   "source": [
    "model = keras.models.Sequential()\n",
    "model.add(keras.layers.Embedding(max_words, 1, input_length=maxlen))\n",
    "model.add(keras.layers.Flatten())\n",
    "model.add(keras.layers.Dense(1, activation='sigmoid'))\n",
    "model.compile(optimizer='rmsprop', loss='binary_crossentropy', metrics=['acc'])\n",
    "model.summary()"
   ]
  },
  {
   "cell_type": "code",
   "execution_count": 19,
   "metadata": {},
   "outputs": [
    {
     "name": "stdout",
     "output_type": "stream",
     "text": [
      "Epoch 1/15\n",
      "98/98 [==============================] - 0s 3ms/step - loss: 0.6929 - acc: 0.5124 - val_loss: 0.6921 - val_acc: 0.5268\n",
      "Epoch 2/15\n",
      "98/98 [==============================] - 0s 2ms/step - loss: 0.6870 - acc: 0.5976 - val_loss: 0.6838 - val_acc: 0.6156\n",
      "Epoch 3/15\n",
      "98/98 [==============================] - 0s 2ms/step - loss: 0.6693 - acc: 0.6876 - val_loss: 0.6606 - val_acc: 0.6928\n",
      "Epoch 4/15\n",
      "98/98 [==============================] - 0s 2ms/step - loss: 0.6363 - acc: 0.7338 - val_loss: 0.6249 - val_acc: 0.7280\n",
      "Epoch 5/15\n",
      "98/98 [==============================] - 0s 2ms/step - loss: 0.5943 - acc: 0.7588 - val_loss: 0.5845 - val_acc: 0.7484\n",
      "Epoch 6/15\n",
      "98/98 [==============================] - 0s 2ms/step - loss: 0.5504 - acc: 0.7767 - val_loss: 0.5454 - val_acc: 0.7670\n",
      "Epoch 7/15\n",
      "98/98 [==============================] - 0s 2ms/step - loss: 0.5096 - acc: 0.7946 - val_loss: 0.5108 - val_acc: 0.7802\n",
      "Epoch 8/15\n",
      "98/98 [==============================] - 0s 2ms/step - loss: 0.4737 - acc: 0.8070 - val_loss: 0.4816 - val_acc: 0.7915\n",
      "Epoch 9/15\n",
      "98/98 [==============================] - 0s 2ms/step - loss: 0.4433 - acc: 0.8191 - val_loss: 0.4582 - val_acc: 0.7998\n",
      "Epoch 10/15\n",
      "98/98 [==============================] - 0s 2ms/step - loss: 0.4182 - acc: 0.8288 - val_loss: 0.4400 - val_acc: 0.8048\n",
      "Epoch 11/15\n",
      "98/98 [==============================] - 0s 2ms/step - loss: 0.3973 - acc: 0.8377 - val_loss: 0.4259 - val_acc: 0.8094\n",
      "Epoch 12/15\n",
      "98/98 [==============================] - 0s 2ms/step - loss: 0.3802 - acc: 0.8437 - val_loss: 0.4148 - val_acc: 0.8137\n",
      "Epoch 13/15\n",
      "98/98 [==============================] - 0s 2ms/step - loss: 0.3657 - acc: 0.8494 - val_loss: 0.4066 - val_acc: 0.8166\n",
      "Epoch 14/15\n",
      "98/98 [==============================] - 0s 2ms/step - loss: 0.3535 - acc: 0.8541 - val_loss: 0.4001 - val_acc: 0.8184\n",
      "Epoch 15/15\n",
      "98/98 [==============================] - 0s 2ms/step - loss: 0.3428 - acc: 0.8581 - val_loss: 0.3951 - val_acc: 0.8206\n"
     ]
    }
   ],
   "source": [
    "history = model.fit(X_train, y_train, epochs=15, batch_size=256, validation_data=(X_test, y_test))"
   ]
  },
  {
   "cell_type": "markdown",
   "metadata": {},
   "source": [
    "## 모델 들여다보기"
   ]
  },
  {
   "cell_type": "code",
   "execution_count": 20,
   "metadata": {},
   "outputs": [
    {
     "data": {
      "text/plain": [
       "<matplotlib.axes._subplots.AxesSubplot at 0x1b792b63148>"
      ]
     },
     "execution_count": 20,
     "metadata": {},
     "output_type": "execute_result"
    },
    {
     "data": {
      "image/png": "[encoded data removed]",
      "text/plain": [
       "<Figure size 432x288 with 1 Axes>"
      ]
     },
     "metadata": {
      "needs_background": "light"
     },
     "output_type": "display_data"
    }
   ],
   "source": [
    "# history.history에는 에폭마다의 손실과 평가 값들이 저장돼있다.\n",
    "import pandas as pd\n",
    "pd.DataFrame(history.history).plot()"
   ]
  },
  {
   "cell_type": "code",
   "execution_count": 21,
   "metadata": {},
   "outputs": [
    {
     "data": {
      "text/plain": [
       "array([[-0.01221521],\n",
       "       [-0.02861221],\n",
       "       [-0.11397249],\n",
       "       ...,\n",
       "       [-0.04565937],\n",
       "       [-0.18075404],\n",
       "       [ 0.17518178]], dtype=float32)"
      ]
     },
     "execution_count": 21,
     "metadata": {},
     "output_type": "execute_result"
    }
   ],
   "source": [
    "# get_weights 메서드를 사용하면, 각 레이어의 가중치를 볼 수 있습니다.\n",
    "wordvecs = model.get_weights()[0]\n",
    "wordvecs"
   ]
  },
  {
   "cell_type": "code",
   "execution_count": 22,
   "metadata": {},
   "outputs": [
    {
     "name": "stdout",
     "output_type": "stream",
     "text": [
      "Words with low weights\n",
      "----\n",
      "7          -1.045001\n",
      "8          -0.8934665\n",
      "highly     -0.8513297\n",
      "9          -0.8473843\n",
      "excellent  -0.8002703\n",
      "perfect    -0.79555047\n",
      "wonderful  -0.7156742\n",
      "great      -0.7062108\n",
      "recommended -0.67923546\n",
      "emotions   -0.67215526\n",
      "\n",
      "Words with high weights\n",
      "----\n",
      "waste      1.2015823\n",
      "worst      1.037407\n",
      "avoid      0.96080834\n",
      "awful      0.8927593\n",
      "terrible   0.8523251\n",
      "4          0.83854055\n",
      "bad        0.83042157\n",
      "mess       0.82641095\n",
      "3          0.81182986\n",
      "skip       0.8111698\n"
     ]
    }
   ],
   "source": [
    "show_n = 10\n",
    "\n",
    "id_to_word = {v: k for k, v in tokenizer.word_index.items()}\n",
    "\n",
    "print(\"Words with low weights\\n----\")\n",
    "for idx in wordvecs.ravel().argsort()[:show_n]:\n",
    "    print(id_to_word[idx].ljust(10), wordvecs.ravel()[idx])\n",
    "    \n",
    "print(\"\\nWords with high weights\\n----\")\n",
    "for idx in (-wordvecs).ravel().argsort()[:show_n]:\n",
    "    print(id_to_word[idx].ljust(10), wordvecs.ravel()[idx])"
   ]
  },
  {
   "cell_type": "code",
   "execution_count": 27,
   "metadata": {},
   "outputs": [
    {
     "name": "stdout",
     "output_type": "stream",
     "text": [
      "Yes!\n",
      " confidence: 0.7000953853130341\n"
     ]
    }
   ],
   "source": [
    "def is_horrible(text):\n",
    "    sequence = tokenizer.texts_to_sequences([text])\n",
    "    X = pad_sequences(sequence, maxlen)\n",
    "    p = model.predict(X)[0][0]\n",
    "    if p < 0.5:\n",
    "        print(\"Yes!\\n\", \"confidence:\", 1-p)\n",
    "    else:\n",
    "        print(\"No!\\n\", \"confidence:\", p)\n",
    "\n",
    "text = \"horribly horrible\"\n",
    "is_horrible(text)"
   ]
  },
  {
   "cell_type": "markdown",
   "metadata": {},
   "source": [
    "# Conv1D"
   ]
  },
  {
   "cell_type": "code",
   "execution_count": 35,
   "metadata": {},
   "outputs": [
    {
     "name": "stdout",
     "output_type": "stream",
     "text": [
      "Epoch 1/10\n",
      "98/98 [==============================] - 0s 5ms/step - loss: 0.6901 - acc: 0.5505 - val_loss: 0.6763 - val_acc: 0.6602\n",
      "Epoch 2/10\n",
      "98/98 [==============================] - 0s 4ms/step - loss: 0.6248 - acc: 0.7330 - val_loss: 0.5660 - val_acc: 0.7572\n",
      "Epoch 3/10\n",
      "98/98 [==============================] - 0s 4ms/step - loss: 0.4980 - acc: 0.7904 - val_loss: 0.4647 - val_acc: 0.7933\n",
      "Epoch 4/10\n",
      "98/98 [==============================] - 0s 4ms/step - loss: 0.4106 - acc: 0.8237 - val_loss: 0.4164 - val_acc: 0.8107\n",
      "Epoch 5/10\n",
      "98/98 [==============================] - 0s 4ms/step - loss: 0.3660 - acc: 0.8413 - val_loss: 0.3981 - val_acc: 0.8192\n",
      "Epoch 6/10\n",
      "98/98 [==============================] - 0s 4ms/step - loss: 0.3382 - acc: 0.8547 - val_loss: 0.3908 - val_acc: 0.8236\n",
      "Epoch 7/10\n",
      "98/98 [==============================] - 0s 4ms/step - loss: 0.3179 - acc: 0.8633 - val_loss: 0.3919 - val_acc: 0.8232\n",
      "Epoch 8/10\n",
      "98/98 [==============================] - 0s 4ms/step - loss: 0.3029 - acc: 0.8718 - val_loss: 0.3895 - val_acc: 0.8242\n",
      "Epoch 9/10\n",
      "98/98 [==============================] - 0s 4ms/step - loss: 0.2905 - acc: 0.8782 - val_loss: 0.3947 - val_acc: 0.8235\n",
      "Epoch 10/10\n",
      "98/98 [==============================] - 0s 4ms/step - loss: 0.2801 - acc: 0.8828 - val_loss: 0.3978 - val_acc: 0.8222\n"
     ]
    }
   ],
   "source": [
    "model = keras.models.Sequential()\n",
    "model.add(keras.layers.Embedding(max_words, 1, input_length=maxlen))\n",
    "model.add(keras.layers.Conv1D(32, 2, padding='same', activation='relu'))\n",
    "model.add(keras.layers.MaxPooling1D(2))\n",
    "model.add(keras.layers.Flatten())\n",
    "model.add(keras.layers.Dense(1, activation='sigmoid'))\n",
    "model.compile(optimizer='rmsprop', loss='binary_crossentropy', metrics=['acc'])\n",
    "\n",
    "history = model.fit(X_train, y_train, \n",
    "                    epochs=10, \n",
    "                    batch_size=256, validation_data=(X_test, y_test))"
   ]
  },
  {
   "cell_type": "code",
   "execution_count": 36,
   "metadata": {},
   "outputs": [
    {
     "data": {
      "text/plain": [
       "<matplotlib.axes._subplots.AxesSubplot at 0x1b7a0129908>"
      ]
     },
     "execution_count": 36,
     "metadata": {},
     "output_type": "execute_result"
    },
    {
     "data": {
      "image/png": "[encoded data removed]",
      "text/plain": [
       "<Figure size 432x288 with 1 Axes>"
      ]
     },
     "metadata": {
      "needs_background": "light"
     },
     "output_type": "display_data"
    }
   ],
   "source": [
    "pd.DataFrame(history.history).plot()"
   ]
  }
 ],
 "metadata": {
  "kernelspec": {
   "display_name": "Python 3",
   "language": "python",
   "name": "python3"
  },
  "language_info": {
   "codemirror_mode": {
    "name": "ipython",
    "version": 3
   },
   "file_extension": ".py",
   "mimetype": "text/x-python",
   "name": "python",
   "nbconvert_exporter": "python",
   "pygments_lexer": "ipython3",
   "version": "3.7.4"
  }
 },
 "nbformat": 4,
 "nbformat_minor": 4
}
