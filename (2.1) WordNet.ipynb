{
 "cells": [
  {
   "cell_type": "markdown",
   "metadata": {},
   "source": [
    "# WordNet"
   ]
  },
  {
   "cell_type": "markdown",
   "metadata": {},
   "source": [
    "wordnet을 활용하기 위해서는 nltk와 nltk 내부의 wordnet 패키지를 다운받아야 합니다.\n",
    "\n",
    "```python\n",
    "!pip install nltk\n",
    "import nltk\n",
    "nltk.download('wordnet')\n",
    "```\n",
    "wordnet은 자연어 처리 분야에서 가장 유명한 시소러스(유의어 사전)입니다. 프린스턴 대학교에서 1985년부터 구축하기 시작한 전통 있는 시소러스로, 다양한 자연어 처리 애플리케이션에서 활용되고 있습니다.\n",
    "\n",
    "wordnet에는 수많은 단어에 대한 동의어와 계층 구조 등의 관계가 정의되어 있습니다. 이를 사용하면 유의어를 얻어나 '단어 네트워크'를 이용해 단어 사이의 유사도를 구할 수 있습니다. 하지만 사람이 수작업으로 단어 네트워크를 정의해주어야 하기 때문에, 시소러스 구축에 비용이 많이 들고 시대 변화에 대응할 수 없으며 단어의 미묘한 차이를 구분할 수 없다는 단점이 있습니다."
   ]
  },
  {
   "cell_type": "markdown",
   "metadata": {},
   "source": [
    "## 동의어 그룹\n",
    "\n",
    "car에는 5개의 동의어 그룹이 있습니다."
   ]
  },
  {
   "cell_type": "code",
   "execution_count": 1,
   "metadata": {},
   "outputs": [
    {
     "data": {
      "text/plain": [
       "[Synset('car.n.01'),\n",
       " Synset('car.n.02'),\n",
       " Synset('car.n.03'),\n",
       " Synset('car.n.04'),\n",
       " Synset('cable_car.n.01')]"
      ]
     },
     "execution_count": 1,
     "metadata": {},
     "output_type": "execute_result"
    }
   ],
   "source": [
    "from nltk.corpus import wordnet\n",
    "\n",
    "wordnet.synsets('car')"
   ]
  },
  {
   "cell_type": "markdown",
   "metadata": {},
   "source": [
    "그 중에서 첫 번째 동의어 그룹을 가져옵니다. 참고로 'car.n.01'은 단어이름.명사.인덱스'을 의미합니다. 'car'에는 여러 의미가 있을 수 있기 때문에, 이처럼 어떤 단어를 지칭하는지 명확히 해줘야 합니다."
   ]
  },
  {
   "cell_type": "code",
   "execution_count": 2,
   "metadata": {},
   "outputs": [
    {
     "name": "stdout",
     "output_type": "stream",
     "text": [
      "사람이 이해하는 정의: \n",
      " a motor vehicle with four wheels; usually propelled by an internal combustion engine\n",
      "\n",
      "'car.n.01'과 유사람 단어들: \n",
      " ['car', 'auto', 'automobile', 'machine', 'motorcar']\n"
     ]
    }
   ],
   "source": [
    "car = wordnet.synset('car.n.01') # wordnet.synsets('car')[0]\n",
    "print('사람이 이해하는 정의: \\n', car.definition())\n",
    "print()\n",
    "print('\\'car.n.01\\'과 유사람 단어들: \\n', car.lemma_names())"
   ]
  },
  {
   "cell_type": "markdown",
   "metadata": {},
   "source": [
    "auto의 동의어 그룹에도 'car.n.01'가 있습니다."
   ]
  },
  {
   "cell_type": "code",
   "execution_count": 3,
   "metadata": {},
   "outputs": [
    {
     "data": {
      "text/plain": [
       "[Synset('car.n.01')]"
      ]
     },
     "execution_count": 3,
     "metadata": {},
     "output_type": "execute_result"
    }
   ],
   "source": [
    "wordnet.synsets(\"auto\")"
   ]
  },
  {
   "cell_type": "markdown",
   "metadata": {},
   "source": [
    "## 단어 네트워크\n",
    "\n",
    "\"hypernym\"은 주로 언어학에서 사용하는 단어로, 상위어라는 뜻입니다. car의 상위어로 갈수록 \"object(객체)\", \"entity(본질)\" 같은 추상적인 단어가 나옵니다. 'car.n.01'에서 'entity.n.01'로 가는 상위어 경로가 여러 개이기 때문에 각각이 모두 정의되어 있습니다."
   ]
  },
  {
   "cell_type": "code",
   "execution_count": 4,
   "metadata": {},
   "outputs": [
    {
     "data": {
      "text/plain": [
       "[[Synset('entity.n.01'),\n",
       "  Synset('physical_entity.n.01'),\n",
       "  Synset('object.n.01'),\n",
       "  Synset('whole.n.02'),\n",
       "  Synset('artifact.n.01'),\n",
       "  Synset('instrumentality.n.03'),\n",
       "  Synset('container.n.01'),\n",
       "  Synset('wheeled_vehicle.n.01'),\n",
       "  Synset('self-propelled_vehicle.n.01'),\n",
       "  Synset('motor_vehicle.n.01'),\n",
       "  Synset('car.n.01')],\n",
       " [Synset('entity.n.01'),\n",
       "  Synset('physical_entity.n.01'),\n",
       "  Synset('object.n.01'),\n",
       "  Synset('whole.n.02'),\n",
       "  Synset('artifact.n.01'),\n",
       "  Synset('instrumentality.n.03'),\n",
       "  Synset('conveyance.n.03'),\n",
       "  Synset('vehicle.n.01'),\n",
       "  Synset('wheeled_vehicle.n.01'),\n",
       "  Synset('self-propelled_vehicle.n.01'),\n",
       "  Synset('motor_vehicle.n.01'),\n",
       "  Synset('car.n.01')]]"
      ]
     },
     "execution_count": 4,
     "metadata": {},
     "output_type": "execute_result"
    }
   ],
   "source": [
    "car.hypernym_paths()"
   ]
  },
  {
   "cell_type": "markdown",
   "metadata": {},
   "source": [
    "## WordNet을 사용한 의미 유사도\n",
    "\n",
    "단어 네트워크 상에서 두 단어의 공통 경로를 바탕으로 단어 사이의 유사도를 계산할 수 있습니다. 예를 들어 \"car\"와 \"motorcycle\"은 \"motor vehicle\"까지의 경로가 같습니다. 반면 \"dog\"와는 \"object\"에서 갈라져 나오고, \"novel\"은 가장 상위의 \"entity\"에서 가지가 나뉩니다."
   ]
  },
  {
   "cell_type": "code",
   "execution_count": 5,
   "metadata": {},
   "outputs": [
    {
     "name": "stdout",
     "output_type": "stream",
     "text": [
      "0.05555555555555555\n",
      "0.07692307692307693\n",
      "0.3333333333333333\n"
     ]
    }
   ],
   "source": [
    "car = wordnet.synset('car.n.01')\n",
    "novel = wordnet.synset('novel.n.01')\n",
    "dog = wordnet.synset('dog.n.01')\n",
    "motorcycle = wordnet.synset('motorcycle.n.01')\n",
    "\n",
    "print(car.path_similarity(novel))\n",
    "print(car.path_similarity(dog))\n",
    "print(car.path_similarity(motorcycle))"
   ]
  },
  {
   "cell_type": "code",
   "execution_count": 6,
   "metadata": {},
   "outputs": [
    {
     "data": {
      "text/plain": [
       "[Synset('entity.n.01'),\n",
       " Synset('whole.n.02'),\n",
       " Synset('physical_entity.n.01'),\n",
       " Synset('object.n.01')]"
      ]
     },
     "execution_count": 6,
     "metadata": {},
     "output_type": "execute_result"
    }
   ],
   "source": [
    "# \"car\"와 \"dog\"가 공유하는 상위어\n",
    "car.common_hypernyms(dog)"
   ]
  },
  {
   "cell_type": "code",
   "execution_count": null,
   "metadata": {},
   "outputs": [],
   "source": []
  }
 ],
 "metadata": {
  "kernelspec": {
   "display_name": "Python 3",
   "language": "python",
   "name": "python3"
  },
  "language_info": {
   "codemirror_mode": {
    "name": "ipython",
    "version": 3
   },
   "file_extension": ".py",
   "mimetype": "text/x-python",
   "name": "python",
   "nbconvert_exporter": "python",
   "pygments_lexer": "ipython3",
   "version": "3.7.4"
  },
  "varInspector": {
   "cols": {
    "lenName": 16,
    "lenType": 16,
    "lenVar": 40
   },
   "kernels_config": {
    "python": {
     "delete_cmd_postfix": "",
     "delete_cmd_prefix": "del ",
     "library": "var_list.py",
     "varRefreshCmd": "print(var_dic_list())"
    },
    "r": {
     "delete_cmd_postfix": ") ",
     "delete_cmd_prefix": "rm(",
     "library": "var_list.r",
     "varRefreshCmd": "cat(var_dic_list()) "
    }
   },
   "types_to_exclude": [
    "module",
    "function",
    "builtin_function_or_method",
    "instance",
    "_Feature"
   ],
   "window_display": false
  }
 },
 "nbformat": 4,
 "nbformat_minor": 4
}
